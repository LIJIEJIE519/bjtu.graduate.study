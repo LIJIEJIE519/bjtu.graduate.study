{
 "cells": [
  {
   "cell_type": "markdown",
   "metadata": {},
   "source": [
    "# Project 3, Logistic Regression Implementation\n"
   ]
  },
  {
   "cell_type": "markdown",
   "metadata": {},
   "source": [
    "# 1. Implmenting the logistic regression classifier without using sk-learn.\n",
    "# 2. Binary classifier required\n",
    "# 3. BGD, SGD or Mini-batch GD\n",
    "# 4. L2 regularization\n",
    "# 5. Classifier evaluation required\n",
    "# 6. Compare your implementation with Sk-learn regressor."
   ]
  },
  {
   "cell_type": "markdown",
   "metadata": {},
   "source": [
    "## Idea：识别一张图片是否有猫\n",
    "### 数据集\n",
    "- 采用H5存储数据集\n",
    "- 训练集的数量: m_train = 209\n",
    "- 测试集的数量 : m_test = 50\n",
    "\n",
    "### 本模型准确性\n",
    "- bgd训练集准确性： 0.9904306220095693\n",
    "- bgd测试集准确性： 0.7\n",
    "\n",
    "- sgd训练集准确性： 1.0\n",
    "- sgd测试集准确性： 0.72\n",
    "\n",
    "- mbgd训练集准确性： 1.0\n",
    "- mbgd测试集准确性： 0.7\n",
    "\n",
    "### sklearn 库准确率\n",
    "- 训练集准确性： 1.0\n",
    "- 测试集准确性： 0.72"
   ]
  },
  {
   "cell_type": "code",
   "execution_count": 1,
   "metadata": {},
   "outputs": [],
   "source": [
    "import numpy as np\n",
    "import matplotlib.pyplot as plt\n",
    "import h5py\n",
    "import math"
   ]
  },
  {
   "cell_type": "code",
   "execution_count": 2,
   "metadata": {},
   "outputs": [],
   "source": [
    "# 加载H5数据集\n",
    "def load_dataset():\n",
    "    train_dataset = h5py.File('datasets/train_catvnoncat.h5', \"r\")\n",
    "    train_set_x_orig = np.array(train_dataset[\"train_set_x\"][:]) # 训练集特征\n",
    "    train_set_y_orig = np.array(train_dataset[\"train_set_y\"][:]) # 训练集标签\n",
    "\n",
    "    test_dataset = h5py.File('datasets/test_catvnoncat.h5', \"r\")\n",
    "    test_set_x_orig = np.array(test_dataset[\"test_set_x\"][:]) # 测试集特征\n",
    "    test_set_y_orig = np.array(test_dataset[\"test_set_y\"][:]) # 测试集标签\n",
    "    \n",
    "    classes = np.array(test_dataset[\"list_classes\"][:]) # ['non-cat', 'cat']\n",
    "\n",
    "    train_set_y_orig = train_set_y_orig.reshape((1, train_set_y_orig.shape[0]))\n",
    "    test_set_y_orig = test_set_y_orig.reshape((1, test_set_y_orig.shape[0]))\n",
    "    \n",
    "    return train_set_x_orig, train_set_y_orig, test_set_x_orig, test_set_y_orig, classes"
   ]
  },
  {
   "cell_type": "code",
   "execution_count": 3,
   "metadata": {},
   "outputs": [
    {
     "name": "stdout",
     "output_type": "stream",
     "text": [
      "训练集的数量: m_train = 209\n",
      "测试集的数量 : m_test = 50\n",
      "每张图片的宽/高 : num_px = 64\n",
      "每张图片的大小 : (64, 64, 3)\n"
     ]
    }
   ],
   "source": [
    "# 数据集展示\n",
    "train_set_x_orig , train_set_y , test_set_x_orig , test_set_y , classes = load_dataset()\n",
    "\n",
    "m_train = train_set_y.shape[1]     #训练集里图片的数量。\n",
    "m_test = test_set_y.shape[1]       #测试集里图片的数量。\n",
    "num_px = train_set_x_orig.shape[1] #训练、测试集里面的图片的宽度和高度（均为64x64）。\n",
    "\n",
    "print (\"训练集的数量: m_train = \" + str(m_train))\n",
    "print (\"测试集的数量 : m_test = \" + str(m_test))\n",
    "print (\"每张图片的宽/高 : num_px = \" + str(num_px))\n",
    "print (\"每张图片的大小 : (\" + str(num_px) + \", \" + str(num_px) + \", 3)\")"
   ]
  },
  {
   "cell_type": "code",
   "execution_count": 4,
   "metadata": {},
   "outputs": [
    {
     "name": "stdout",
     "output_type": "stream",
     "text": [
      "测试集维数: (12288, 209)\n",
      "测试集标签维数: (1, 209)\n",
      "训练集维数: (12288, 50)\n",
      "训练集标签维数: (1, 50)\n"
     ]
    }
   ],
   "source": [
    "# 将训练集的维度降低并转置。\n",
    "x_train = train_set_x_orig.reshape(train_set_x_orig.shape[0],-1).T\n",
    "y_train = train_set_y\n",
    "print(\"测试集维数:\", x_train.shape)\n",
    "print(\"测试集标签维数:\", y_train.shape)\n",
    "\n",
    "\n",
    "# 将测试集的维度降低并转置。\n",
    "x_test = test_set_x_orig.reshape(test_set_x_orig.shape[0], -1).T\n",
    "y_test = test_set_y\n",
    "print(\"训练集维数:\", x_test.shape)\n",
    "print(\"训练集标签维数:\", y_test.shape)\n",
    "\n",
    "\n",
    "# 数据标准化，255为RGB最大值\n",
    "x_train = x_train / 255\n",
    "x_test = x_test / 255"
   ]
  },
  {
   "cell_type": "markdown",
   "metadata": {},
   "source": [
    "**梯度下降数学理论公式**:\n",
    "\n",
    "对每个样本 $x^{(i)}$:\n",
    "$$z^{(i)} = w^T x^{(i)} + b \\tag{1}$$\n",
    "$$\\hat{y}^{(i)} = a^{(i)} = sigmoid(z^{(i)})\\tag{2}$$ \n",
    "$$ \\mathcal{L}(a^{(i)}, y^{(i)}) =  - y^{(i)}  \\log(a^{(i)}) - (1-y^{(i)} )  \\log(1-a^{(i)})\\tag{3}$$\n",
    "\n",
    "成本函数:\n",
    "$$ J = \\frac{1}{m} \\sum_{i=1}^m \\mathcal{L}(a^{(i)}, y^{(i)})\\tag{4}$$"
   ]
  },
  {
   "cell_type": "code",
   "execution_count": 5,
   "metadata": {},
   "outputs": [],
   "source": [
    "# 梯度下降激活函数使用Sigmoid\n",
    "def sigmoid(z):\n",
    "    s = 1 / (1 + np.exp(-z))\n",
    "    return s"
   ]
  },
  {
   "cell_type": "code",
   "execution_count": 6,
   "metadata": {},
   "outputs": [],
   "source": [
    "# 0集初始化\n",
    "def initialize_with_zeros(dim):\n",
    "    w = np.zeros(shape = (dim, 1))\n",
    "    b = 0\n",
    "    return (w , b)"
   ]
  },
  {
   "cell_type": "code",
   "execution_count": 7,
   "metadata": {},
   "outputs": [],
   "source": [
    "# mini_batches获取\n",
    "def random_mini_batches(X,Y,mini_batch_size=64,seed=0):\n",
    "    np.random.seed(seed) #指定随机种子\n",
    "    m = X.shape[1]\n",
    "    mini_batches = []\n",
    "    \n",
    "    #第一步：打乱顺序\n",
    "    permutation = list(np.random.permutation(m)) #它会返回一个长度为m的随机数组，且里面的数是0到m-1\n",
    "    shuffled_X = X[:,permutation]   #将每一列的数据按permutation的顺序来重新排列。\n",
    "    shuffled_Y = Y[:,permutation].reshape((1,m))\n",
    "\n",
    "\n",
    "    #第二步，分割\n",
    "    num_complete_minibatches = math.floor(m / mini_batch_size) #把你的训练集分割成多少份,请注意，如果值是99.99，那么返回值是99，剩下的0.99会被舍弃\n",
    "    for k in range(0,num_complete_minibatches):\n",
    "        mini_batch_X = shuffled_X[:,k * mini_batch_size:(k+1)*mini_batch_size]\n",
    "        mini_batch_Y = shuffled_Y[:,k * mini_batch_size:(k+1)*mini_batch_size]\n",
    "        mini_batch = (mini_batch_X,mini_batch_Y)\n",
    "        mini_batches.append(mini_batch)\n",
    "    \n",
    "    if m % mini_batch_size != 0:\n",
    "        #获取最后剩余的部分\n",
    "        mini_batch_X = shuffled_X[:,mini_batch_size * num_complete_minibatches:]\n",
    "        mini_batch_Y = shuffled_Y[:,mini_batch_size * num_complete_minibatches:]\n",
    "        \n",
    "        mini_batch = (mini_batch_X,mini_batch_Y)\n",
    "        mini_batches.append(mini_batch)\n",
    "        \n",
    "    return mini_batches\n"
   ]
  },
  {
   "cell_type": "code",
   "execution_count": 8,
   "metadata": {},
   "outputs": [],
   "source": [
    "# 一次传播迭代\n",
    "def propagate(w, b, X, Y):\n",
    "    m = X.shape[1]\n",
    "\n",
    "    # 1. 前向传播，根据激活函数计算激活值\n",
    "    A = sigmoid(np.dot(w.T,X) + b) \n",
    "    # 成本计算\n",
    "    cost = (- 1 / m) * np.sum(Y * np.log(A) + (1 - Y) * (np.log(1 - A)))\n",
    "\n",
    "    # 2. 后向传播，梯度下降计算\n",
    "    dw = (1 / m) * np.dot(X, (A - Y).T)\n",
    "    db = (1 / m) * np.sum(A - Y)\n",
    "\n",
    "    cost = np.squeeze(cost)\n",
    "\n",
    "    # 保存dw,db起来。\n",
    "    grads = {\n",
    "                \"dw\": dw,\n",
    "                \"db\": db\n",
    "             }\n",
    "    return (grads , cost)"
   ]
  },
  {
   "cell_type": "markdown",
   "metadata": {},
   "source": [
    "## 4. L2 regularization required for the implementation."
   ]
  },
  {
   "cell_type": "code",
   "execution_count": 9,
   "metadata": {},
   "outputs": [],
   "source": [
    "# 一次传播迭代， 加入L2正则化\n",
    "def propagate_L2(w, b, X, Y, r):\n",
    "    m = X.shape[1]\n",
    "\n",
    "    # 根据激活函数计算激活值\n",
    "    A = sigmoid(np.dot(w.T,X) + b) \n",
    "    # 成本计算 L2范式\n",
    "    cost = (- 1 / m) * np.sum(Y * np.log(A) + (1 - Y) * (np.log(1 - A))) + r/(2*m) * np.linalg.norm(w, ord=2) \n",
    "\n",
    "    # 梯度下降计算\n",
    "    dw = (1 / m) * np.dot(X, (A - Y).T) + r/m*w\n",
    "    db = (1 / m) * np.sum(A - Y)\n",
    "\n",
    "    cost = np.squeeze(cost)\n",
    "\n",
    "    # 保存dw,db起来。\n",
    "    grads = {\n",
    "                \"dw\": dw,\n",
    "                \"db\": db\n",
    "             }\n",
    "    return (grads , cost)"
   ]
  },
  {
   "cell_type": "markdown",
   "metadata": {},
   "source": [
    "## 3. BGD, SGD or Mini-batch GD实现\n"
   ]
  },
  {
   "cell_type": "code",
   "execution_count": 10,
   "metadata": {},
   "outputs": [],
   "source": [
    "# 梯度下降更新 w, b\n",
    "def optimize(w , b , X , Y , num_iterations , learning_rate , print_cost = False\n",
    "             , gd = 'bgd',mini_batch_size = 64):\n",
    "\n",
    "    costs = []\n",
    "    m = X.shape[1]\n",
    "    seed = 10 #随机种子\n",
    "    for i in range(num_iterations):\n",
    "        # BGD实现\n",
    "        if gd =='bgd':\n",
    "            # 一次迭代\n",
    "            #grads, cost = propagate(w, b, X, Y)\n",
    "            grads, cost = propagate_L2(w, b, X, Y, 0.5)\n",
    "\n",
    "            dw = grads[\"dw\"]\n",
    "            db = grads[\"db\"]\n",
    "\n",
    "            # 迭代dw,db\n",
    "            w = w - learning_rate * dw\n",
    "            b = b - learning_rate * db\n",
    "            \n",
    "        # SGD实现\n",
    "        elif gd == \"sgd\":\n",
    "            for j in range(0, m):  # 每次训练一个样本\n",
    "                grads, cost = propagate(w, b, X[:,j].reshape(-1, 1), Y[:,j].reshape(-1, 1))\n",
    "\n",
    "                dw = grads[\"dw\"]\n",
    "                db = grads[\"db\"]\n",
    "\n",
    "                # 迭代dw,db\n",
    "                w = w - learning_rate * dw\n",
    "                b = b - learning_rate * db\n",
    "                \n",
    "        # Mini-batch GD实现\n",
    "        elif gd == \"mbgd\":\n",
    "            seed = seed + 1\n",
    "            minibatches = random_mini_batches(X, Y, mini_batch_size, seed)\n",
    "            for minibatch in minibatches:\n",
    "                (minibatch_X,minibatch_Y) = minibatch\n",
    "                grads, cost = propagate(w, b, minibatch_X, minibatch_Y)\n",
    "\n",
    "                dw = grads[\"dw\"]\n",
    "                db = grads[\"db\"]\n",
    "\n",
    "                # 迭代dw,db\n",
    "                w = w - learning_rate * dw\n",
    "                b = b - learning_rate * db\n",
    "\n",
    "        # 记录成本,查看是否下降\n",
    "        if i % 100 == 0:\n",
    "            costs.append(cost)\n",
    "        # 打印成本数据\n",
    "        if (print_cost) and (i % 100 == 0):\n",
    "            print(\"迭代的次数: %i ， 成本值： %f\" % (i,cost))\n",
    "\n",
    "    params  = {\n",
    "                \"w\" : w,\n",
    "                \"b\" : b }\n",
    "    grads = {\n",
    "            \"dw\": dw,\n",
    "            \"db\": db } \n",
    "    return (params , grads , costs)"
   ]
  },
  {
   "cell_type": "markdown",
   "metadata": {},
   "source": [
    "### 预测"
   ]
  },
  {
   "cell_type": "code",
   "execution_count": 11,
   "metadata": {},
   "outputs": [],
   "source": [
    "# 使用训练好的模型进行预测\n",
    "def predict(w , b , X ):\n",
    "    m  = X.shape[1] #图片的数量\n",
    "    Y_prediction = np.zeros((1,m)) \n",
    "    w = w.reshape(X.shape[0],1)\n",
    "\n",
    "    A = sigmoid(np.dot(w.T , X) + b)\n",
    "    for i in range(A.shape[1]):\n",
    "        Y_prediction[0,i] = 1 if A[0,i] > 0.5 else 0\n",
    "\n",
    "    return Y_prediction"
   ]
  },
  {
   "cell_type": "markdown",
   "metadata": {},
   "source": [
    "## 5. classifier evaluation required."
   ]
  },
  {
   "cell_type": "code",
   "execution_count": 12,
   "metadata": {},
   "outputs": [],
   "source": [
    "# 准确率评估\n",
    "def accuracy(Y_prediction, Y):\n",
    "    return 1 - np.mean(np.abs(Y_prediction - Y))"
   ]
  },
  {
   "cell_type": "markdown",
   "metadata": {},
   "source": [
    "### 模型整合"
   ]
  },
  {
   "cell_type": "code",
   "execution_count": 13,
   "metadata": {},
   "outputs": [],
   "source": [
    "# 训练模型，整合各个步骤\n",
    "def model(X_train , Y_train , X_test , Y_test , num_iterations = 2000 , learning_rate = 0.5 , \n",
    "          print_cost = False, gd = 'bgd',mini_batch_size = 64):\n",
    "    # 初始化 w, b\n",
    "    w , b = initialize_with_zeros(X_train.shape[0])\n",
    "    # 迭代求解 w, b\n",
    "    parameters , grads , costs = optimize(w , b , X_train , Y_train, num_iterations, learning_rate , \n",
    "                                          print_cost, gd)\n",
    "\n",
    "    w , b = parameters[\"w\"] , parameters[\"b\"]\n",
    "\n",
    "    # 预测\n",
    "    Y_prediction_train = predict(w , b, X_train)\n",
    "    Y_prediction_test = predict(w , b, X_test)\n",
    "\n",
    "    d = {\n",
    "            \"costs\" : costs,\n",
    "            \"Y_prediction_test\" : Y_prediction_test,\n",
    "            \"Y_prediciton_train\" : Y_prediction_train,\n",
    "            \"w\" : w,\n",
    "            \"b\" : b,\n",
    "            \"learning_rate\" : learning_rate,\n",
    "            \"num_iterations\" : num_iterations }\n",
    "    return d"
   ]
  },
  {
   "cell_type": "markdown",
   "metadata": {},
   "source": [
    "## 模型训练及其损失函数下降曲线"
   ]
  },
  {
   "cell_type": "markdown",
   "metadata": {},
   "source": [
    "### BGD结果"
   ]
  },
  {
   "cell_type": "code",
   "execution_count": 14,
   "metadata": {},
   "outputs": [
    {
     "name": "stdout",
     "output_type": "stream",
     "text": [
      "迭代的次数: 0 ， 成本值： 0.693147\n",
      "迭代的次数: 100 ， 成本值： 0.584954\n",
      "迭代的次数: 200 ， 成本值： 0.467852\n",
      "迭代的次数: 300 ， 成本值： 0.377279\n",
      "迭代的次数: 400 ， 成本值： 0.332714\n",
      "迭代的次数: 500 ， 成本值： 0.304774\n",
      "迭代的次数: 600 ， 成本值： 0.281618\n",
      "迭代的次数: 700 ， 成本值： 0.262005\n",
      "迭代的次数: 800 ， 成本值： 0.245117\n",
      "迭代的次数: 900 ， 成本值： 0.230384\n",
      "迭代的次数: 1000 ， 成本值： 0.217393\n",
      "迭代的次数: 1100 ， 成本值： 0.205838\n",
      "迭代的次数: 1200 ， 成本值： 0.195482\n",
      "迭代的次数: 1300 ， 成本值： 0.186142\n",
      "迭代的次数: 1400 ， 成本值： 0.177671\n",
      "迭代的次数: 1500 ， 成本值： 0.169952\n",
      "迭代的次数: 1600 ， 成本值： 0.162887\n",
      "迭代的次数: 1700 ， 成本值： 0.156396\n",
      "迭代的次数: 1800 ， 成本值： 0.150412\n",
      "迭代的次数: 1900 ， 成本值： 0.144878\n"
     ]
    },
    {
     "data": {
      "image/png": "[encoded data removed]",
      "text/plain": [
       "<Figure size 432x288 with 1 Axes>"
      ]
     },
     "metadata": {
      "needs_background": "light"
     },
     "output_type": "display_data"
    }
   ],
   "source": [
    "bgd = model(x_train, y_train, x_test, y_test, num_iterations = 2000, learning_rate = 0.005, \n",
    "          print_cost = True, gd = \"bgd\")\n",
    "\n",
    "# 绘制基本曲线\n",
    "costs = np.squeeze(bgd['costs'])\n",
    "plt.plot(costs)\n",
    "plt.ylabel('cost')\n",
    "plt.xlabel('iterations (per hundreds)')\n",
    "plt.title(\"Learning rate =\" + str(bgd[\"learning_rate\"]))\n",
    "plt.show()"
   ]
  },
  {
   "cell_type": "markdown",
   "metadata": {},
   "source": [
    "### SGD结果"
   ]
  },
  {
   "cell_type": "code",
   "execution_count": 15,
   "metadata": {},
   "outputs": [
    {
     "name": "stdout",
     "output_type": "stream",
     "text": [
      "迭代的次数: 0 ， 成本值： 0.018347\n",
      "迭代的次数: 100 ， 成本值： 0.043422\n",
      "迭代的次数: 200 ， 成本值： 0.017345\n",
      "迭代的次数: 300 ， 成本值： 0.008539\n",
      "迭代的次数: 400 ， 成本值： 0.005061\n",
      "迭代的次数: 500 ， 成本值： 0.003625\n",
      "迭代的次数: 600 ， 成本值： 0.002908\n",
      "迭代的次数: 700 ， 成本值： 0.002480\n",
      "迭代的次数: 800 ， 成本值： 0.002194\n",
      "迭代的次数: 900 ， 成本值： 0.001986\n",
      "迭代的次数: 1000 ， 成本值： 0.001826\n",
      "迭代的次数: 1100 ， 成本值： 0.001699\n",
      "迭代的次数: 1200 ， 成本值： 0.001593\n",
      "迭代的次数: 1300 ， 成本值： 0.001505\n",
      "迭代的次数: 1400 ， 成本值： 0.001428\n",
      "迭代的次数: 1500 ， 成本值： 0.001361\n",
      "迭代的次数: 1600 ， 成本值： 0.001302\n",
      "迭代的次数: 1700 ， 成本值： 0.001250\n",
      "迭代的次数: 1800 ， 成本值： 0.001202\n",
      "迭代的次数: 1900 ， 成本值： 0.001159\n"
     ]
    },
    {
     "data": {
      "image/png": "[encoded data removed]",
      "text/plain": [
       "<Figure size 432x288 with 1 Axes>"
      ]
     },
     "metadata": {
      "needs_background": "light"
     },
     "output_type": "display_data"
    }
   ],
   "source": [
    "sgd = model(x_train, y_train, x_test, y_test, num_iterations = 2000, learning_rate = 0.005, \n",
    "          print_cost = True, gd = \"sgd\")\n",
    "\n",
    "# 绘制基本曲线\n",
    "costs = np.squeeze(sgd['costs'])\n",
    "plt.plot(costs)\n",
    "plt.ylabel('cost')\n",
    "plt.xlabel('iterations (per hundreds)')\n",
    "plt.title(\"Learning rate =\" + str(sgd[\"learning_rate\"]))\n",
    "plt.show()"
   ]
  },
  {
   "cell_type": "markdown",
   "metadata": {},
   "source": [
    "### mbgd结果"
   ]
  },
  {
   "cell_type": "code",
   "execution_count": 16,
   "metadata": {},
   "outputs": [
    {
     "name": "stdout",
     "output_type": "stream",
     "text": [
      "迭代的次数: 0 ， 成本值： 0.707157\n",
      "迭代的次数: 100 ， 成本值： 0.453603\n",
      "迭代的次数: 200 ， 成本值： 0.239643\n",
      "迭代的次数: 300 ， 成本值： 0.240844\n",
      "迭代的次数: 400 ， 成本值： 0.234595\n",
      "迭代的次数: 500 ， 成本值： 0.120807\n",
      "迭代的次数: 600 ， 成本值： 0.161384\n",
      "迭代的次数: 700 ， 成本值： 0.070667\n",
      "迭代的次数: 800 ， 成本值： 0.086985\n",
      "迭代的次数: 900 ， 成本值： 0.101530\n",
      "迭代的次数: 1000 ， 成本值： 0.094890\n",
      "迭代的次数: 1100 ， 成本值： 0.067584\n",
      "迭代的次数: 1200 ， 成本值： 0.077184\n",
      "迭代的次数: 1300 ， 成本值： 0.082054\n",
      "迭代的次数: 1400 ， 成本值： 0.042173\n",
      "迭代的次数: 1500 ， 成本值： 0.041717\n",
      "迭代的次数: 1600 ， 成本值： 0.040089\n",
      "迭代的次数: 1700 ， 成本值： 0.034578\n",
      "迭代的次数: 1800 ， 成本值： 0.054866\n",
      "迭代的次数: 1900 ， 成本值： 0.022182\n"
     ]
    },
    {
     "data": {
      "image/png": "[encoded data removed]",
      "text/plain": [
       "<Figure size 432x288 with 1 Axes>"
      ]
     },
     "metadata": {
      "needs_background": "light"
     },
     "output_type": "display_data"
    }
   ],
   "source": [
    "mbgd = model(x_train, y_train, x_test, y_test, num_iterations = 2000, learning_rate = 0.005, \n",
    "          print_cost = True, gd = \"mbgd\")\n",
    "\n",
    "# 绘制基本曲线\n",
    "costs = np.squeeze(mbgd['costs'])\n",
    "plt.plot(costs)\n",
    "plt.ylabel('cost')\n",
    "plt.xlabel('iterations (per hundreds)')\n",
    "plt.title(\"Learning rate =\" + str(mbgd[\"learning_rate\"]))\n",
    "plt.show()"
   ]
  },
  {
   "cell_type": "markdown",
   "metadata": {},
   "source": [
    "## 本模型准确性"
   ]
  },
  {
   "cell_type": "code",
   "execution_count": 17,
   "metadata": {},
   "outputs": [
    {
     "name": "stdout",
     "output_type": "stream",
     "text": [
      "bgd训练集准确性： 0.9904306220095693\n",
      "bgd测试集准确性： 0.7\n",
      "\n",
      "sgd训练集准确性： 1.0\n",
      "sgd测试集准确性： 0.72\n",
      "\n",
      "mbgd训练集准确性： 1.0\n",
      "mbgd测试集准确性： 0.7\n"
     ]
    }
   ],
   "source": [
    "print(\"bgd训练集准确性：\"  , accuracy(bgd['Y_prediciton_train'], y_train))\n",
    "print(\"bgd测试集准确性：\"  , accuracy(bgd['Y_prediction_test'], y_test))\n",
    "print()\n",
    "print(\"sgd训练集准确性：\"  , accuracy(sgd['Y_prediciton_train'], y_train))\n",
    "print(\"sgd测试集准确性：\"  , accuracy(sgd['Y_prediction_test'], y_test))\n",
    "print()\n",
    "print(\"mbgd训练集准确性：\"  , accuracy(mbgd['Y_prediciton_train'], y_train))\n",
    "print(\"mbgd测试集准确性：\"  , accuracy(mbgd['Y_prediction_test'], y_test))"
   ]
  },
  {
   "cell_type": "markdown",
   "metadata": {},
   "source": [
    "### 实际图形预测"
   ]
  },
  {
   "cell_type": "code",
   "execution_count": 18,
   "metadata": {},
   "outputs": [
    {
     "name": "stdout",
     "output_type": "stream",
     "text": [
      "y = 1, 预测这是 a \"cat\" 图片.\n"
     ]
    },
    {
     "data": {
      "image/png": "[encoded data removed]",
      "text/plain": [
       "<Figure size 432x288 with 1 Axes>"
      ]
     },
     "metadata": {
      "needs_background": "light"
     },
     "output_type": "display_data"
    }
   ],
   "source": [
    "index = 2\n",
    "plt.imshow(x_test[:,index].reshape((num_px, num_px, 3)))\n",
    "print(\"y = \" + str(y_test[0,index]) + \", 预测这是 a \\\"\" + \n",
    "      classes[int(bgd[\"Y_prediction_test\"][0,index])].decode(\"utf-8\") +  \"\\\" 图片.\")"
   ]
  },
  {
   "cell_type": "markdown",
   "metadata": {},
   "source": [
    "# 6. Compare your implementation with Sk-learn regressor.\n"
   ]
  },
  {
   "cell_type": "code",
   "execution_count": 19,
   "metadata": {},
   "outputs": [],
   "source": [
    "from sklearn.linear_model import LogisticRegressionCV\n",
    "from sklearn.metrics import accuracy_score"
   ]
  },
  {
   "cell_type": "code",
   "execution_count": 20,
   "metadata": {},
   "outputs": [
    {
     "name": "stderr",
     "output_type": "stream",
     "text": [
      "/Library/Frameworks/Python.framework/Versions/3.8/lib/python3.8/site-packages/sklearn/utils/validation.py:72: DataConversionWarning: A column-vector y was passed when a 1d array was expected. Please change the shape of y to (n_samples, ), for example using ravel().\n",
      "  return f(**kwargs)\n",
      "/Library/Frameworks/Python.framework/Versions/3.8/lib/python3.8/site-packages/sklearn/linear_model/_logistic.py:762: ConvergenceWarning: lbfgs failed to converge (status=1):\n",
      "STOP: TOTAL NO. of ITERATIONS REACHED LIMIT.\n",
      "\n",
      "Increase the number of iterations (max_iter) or scale the data as shown in:\n",
      "    https://scikit-learn.org/stable/modules/preprocessing.html\n",
      "Please also refer to the documentation for alternative solver options:\n",
      "    https://scikit-learn.org/stable/modules/linear_model.html#logistic-regression\n",
      "  n_iter_i = _check_optimize_result(\n",
      "/Library/Frameworks/Python.framework/Versions/3.8/lib/python3.8/site-packages/sklearn/linear_model/_logistic.py:762: ConvergenceWarning: lbfgs failed to converge (status=1):\n",
      "STOP: TOTAL NO. of ITERATIONS REACHED LIMIT.\n",
      "\n",
      "Increase the number of iterations (max_iter) or scale the data as shown in:\n",
      "    https://scikit-learn.org/stable/modules/preprocessing.html\n",
      "Please also refer to the documentation for alternative solver options:\n",
      "    https://scikit-learn.org/stable/modules/linear_model.html#logistic-regression\n",
      "  n_iter_i = _check_optimize_result(\n",
      "/Library/Frameworks/Python.framework/Versions/3.8/lib/python3.8/site-packages/sklearn/linear_model/_logistic.py:762: ConvergenceWarning: lbfgs failed to converge (status=1):\n",
      "STOP: TOTAL NO. of ITERATIONS REACHED LIMIT.\n",
      "\n",
      "Increase the number of iterations (max_iter) or scale the data as shown in:\n",
      "    https://scikit-learn.org/stable/modules/preprocessing.html\n",
      "Please also refer to the documentation for alternative solver options:\n",
      "    https://scikit-learn.org/stable/modules/linear_model.html#logistic-regression\n",
      "  n_iter_i = _check_optimize_result(\n",
      "/Library/Frameworks/Python.framework/Versions/3.8/lib/python3.8/site-packages/sklearn/linear_model/_logistic.py:762: ConvergenceWarning: lbfgs failed to converge (status=1):\n",
      "STOP: TOTAL NO. of ITERATIONS REACHED LIMIT.\n",
      "\n",
      "Increase the number of iterations (max_iter) or scale the data as shown in:\n",
      "    https://scikit-learn.org/stable/modules/preprocessing.html\n",
      "Please also refer to the documentation for alternative solver options:\n",
      "    https://scikit-learn.org/stable/modules/linear_model.html#logistic-regression\n",
      "  n_iter_i = _check_optimize_result(\n",
      "/Library/Frameworks/Python.framework/Versions/3.8/lib/python3.8/site-packages/sklearn/linear_model/_logistic.py:762: ConvergenceWarning: lbfgs failed to converge (status=1):\n",
      "STOP: TOTAL NO. of ITERATIONS REACHED LIMIT.\n",
      "\n",
      "Increase the number of iterations (max_iter) or scale the data as shown in:\n",
      "    https://scikit-learn.org/stable/modules/preprocessing.html\n",
      "Please also refer to the documentation for alternative solver options:\n",
      "    https://scikit-learn.org/stable/modules/linear_model.html#logistic-regression\n",
      "  n_iter_i = _check_optimize_result(\n",
      "/Library/Frameworks/Python.framework/Versions/3.8/lib/python3.8/site-packages/sklearn/linear_model/_logistic.py:762: ConvergenceWarning: lbfgs failed to converge (status=1):\n",
      "STOP: TOTAL NO. of ITERATIONS REACHED LIMIT.\n",
      "\n",
      "Increase the number of iterations (max_iter) or scale the data as shown in:\n",
      "    https://scikit-learn.org/stable/modules/preprocessing.html\n",
      "Please also refer to the documentation for alternative solver options:\n",
      "    https://scikit-learn.org/stable/modules/linear_model.html#logistic-regression\n",
      "  n_iter_i = _check_optimize_result(\n",
      "/Library/Frameworks/Python.framework/Versions/3.8/lib/python3.8/site-packages/sklearn/linear_model/_logistic.py:762: ConvergenceWarning: lbfgs failed to converge (status=1):\n",
      "STOP: TOTAL NO. of ITERATIONS REACHED LIMIT.\n",
      "\n",
      "Increase the number of iterations (max_iter) or scale the data as shown in:\n",
      "    https://scikit-learn.org/stable/modules/preprocessing.html\n",
      "Please also refer to the documentation for alternative solver options:\n",
      "    https://scikit-learn.org/stable/modules/linear_model.html#logistic-regression\n",
      "  n_iter_i = _check_optimize_result(\n",
      "/Library/Frameworks/Python.framework/Versions/3.8/lib/python3.8/site-packages/sklearn/linear_model/_logistic.py:762: ConvergenceWarning: lbfgs failed to converge (status=1):\n",
      "STOP: TOTAL NO. of ITERATIONS REACHED LIMIT.\n",
      "\n",
      "Increase the number of iterations (max_iter) or scale the data as shown in:\n",
      "    https://scikit-learn.org/stable/modules/preprocessing.html\n",
      "Please also refer to the documentation for alternative solver options:\n",
      "    https://scikit-learn.org/stable/modules/linear_model.html#logistic-regression\n",
      "  n_iter_i = _check_optimize_result(\n",
      "/Library/Frameworks/Python.framework/Versions/3.8/lib/python3.8/site-packages/sklearn/linear_model/_logistic.py:762: ConvergenceWarning: lbfgs failed to converge (status=1):\n",
      "STOP: TOTAL NO. of ITERATIONS REACHED LIMIT.\n",
      "\n",
      "Increase the number of iterations (max_iter) or scale the data as shown in:\n",
      "    https://scikit-learn.org/stable/modules/preprocessing.html\n",
      "Please also refer to the documentation for alternative solver options:\n",
      "    https://scikit-learn.org/stable/modules/linear_model.html#logistic-regression\n",
      "  n_iter_i = _check_optimize_result(\n",
      "/Library/Frameworks/Python.framework/Versions/3.8/lib/python3.8/site-packages/sklearn/linear_model/_logistic.py:762: ConvergenceWarning: lbfgs failed to converge (status=1):\n",
      "STOP: TOTAL NO. of ITERATIONS REACHED LIMIT.\n",
      "\n",
      "Increase the number of iterations (max_iter) or scale the data as shown in:\n",
      "    https://scikit-learn.org/stable/modules/preprocessing.html\n",
      "Please also refer to the documentation for alternative solver options:\n",
      "    https://scikit-learn.org/stable/modules/linear_model.html#logistic-regression\n",
      "  n_iter_i = _check_optimize_result(\n",
      "/Library/Frameworks/Python.framework/Versions/3.8/lib/python3.8/site-packages/sklearn/linear_model/_logistic.py:762: ConvergenceWarning: lbfgs failed to converge (status=1):\n",
      "STOP: TOTAL NO. of ITERATIONS REACHED LIMIT.\n",
      "\n",
      "Increase the number of iterations (max_iter) or scale the data as shown in:\n",
      "    https://scikit-learn.org/stable/modules/preprocessing.html\n",
      "Please also refer to the documentation for alternative solver options:\n",
      "    https://scikit-learn.org/stable/modules/linear_model.html#logistic-regression\n",
      "  n_iter_i = _check_optimize_result(\n",
      "/Library/Frameworks/Python.framework/Versions/3.8/lib/python3.8/site-packages/sklearn/linear_model/_logistic.py:762: ConvergenceWarning: lbfgs failed to converge (status=1):\n",
      "STOP: TOTAL NO. of ITERATIONS REACHED LIMIT.\n",
      "\n",
      "Increase the number of iterations (max_iter) or scale the data as shown in:\n",
      "    https://scikit-learn.org/stable/modules/preprocessing.html\n",
      "Please also refer to the documentation for alternative solver options:\n",
      "    https://scikit-learn.org/stable/modules/linear_model.html#logistic-regression\n",
      "  n_iter_i = _check_optimize_result(\n",
      "/Library/Frameworks/Python.framework/Versions/3.8/lib/python3.8/site-packages/sklearn/linear_model/_logistic.py:762: ConvergenceWarning: lbfgs failed to converge (status=1):\n",
      "STOP: TOTAL NO. of ITERATIONS REACHED LIMIT.\n",
      "\n",
      "Increase the number of iterations (max_iter) or scale the data as shown in:\n",
      "    https://scikit-learn.org/stable/modules/preprocessing.html\n",
      "Please also refer to the documentation for alternative solver options:\n",
      "    https://scikit-learn.org/stable/modules/linear_model.html#logistic-regression\n",
      "  n_iter_i = _check_optimize_result(\n",
      "/Library/Frameworks/Python.framework/Versions/3.8/lib/python3.8/site-packages/sklearn/linear_model/_logistic.py:762: ConvergenceWarning: lbfgs failed to converge (status=1):\n",
      "STOP: TOTAL NO. of ITERATIONS REACHED LIMIT.\n",
      "\n",
      "Increase the number of iterations (max_iter) or scale the data as shown in:\n",
      "    https://scikit-learn.org/stable/modules/preprocessing.html\n",
      "Please also refer to the documentation for alternative solver options:\n",
      "    https://scikit-learn.org/stable/modules/linear_model.html#logistic-regression\n",
      "  n_iter_i = _check_optimize_result(\n"
     ]
    },
    {
     "data": {
      "text/plain": [
       "LogisticRegressionCV()"
      ]
     },
     "execution_count": 20,
     "metadata": {},
     "output_type": "execute_result"
    }
   ],
   "source": [
    "# 将训练集的维度降低并转置。\n",
    "x_train = train_set_x_orig.reshape(train_set_x_orig.shape[0],-1).T\n",
    "y_train = train_set_y\n",
    "\n",
    "# 将测试集的维度降低并转置。\n",
    "x_test = test_set_x_orig.reshape(test_set_x_orig.shape[0], -1).T\n",
    "y_test = test_set_y\n",
    "\n",
    "\n",
    "\n",
    "#构建并训练模型\n",
    "lr = LogisticRegressionCV(fit_intercept=True)\n",
    "lr.fit(x_train.T, y_train.T)"
   ]
  },
  {
   "cell_type": "markdown",
   "metadata": {},
   "source": [
    "# sklearn 库准确率"
   ]
  },
  {
   "cell_type": "code",
   "execution_count": 21,
   "metadata": {},
   "outputs": [
    {
     "name": "stdout",
     "output_type": "stream",
     "text": [
      "训练集准确性： 1.0\n",
      "测试集准确性： 0.72\n"
     ]
    }
   ],
   "source": [
    "# 模型效果获取\n",
    "r_train = lr.score(x_train.T, y_train.T)\n",
    "r_test = lr.score(x_test.T, y_test.T)\n",
    "# print (\"训练集R值：\", r_train)\n",
    "# print(\"测试集R\", r_test)\n",
    "\n",
    "# print (\"参数：\",lr.coef_)\n",
    "# print (\"截距：\",lr.intercept_)\n",
    "\n",
    "# sklearn 模型准确率\n",
    "y_train_pred = lr.predict(x_train.T)\n",
    "train_accuracy = accuracy_score(y_train.T, y_train_pred)\n",
    "y_test_pred = lr.predict(x_test.T)\n",
    "test_accuracy = accuracy_score(y_test.T, y_test_pred)\n",
    "\n",
    "print(\"训练集准确性：\"  , train_accuracy)\n",
    "print(\"测试集准确性：\"  , test_accuracy)\n"
   ]
  },
  {
   "cell_type": "code",
   "execution_count": null,
   "metadata": {},
   "outputs": [],
   "source": []
  }
 ],
 "metadata": {
  "kernelspec": {
   "display_name": "Python 3",
   "language": "python",
   "name": "python3"
  },
  "language_info": {
   "codemirror_mode": {
    "name": "ipython",
    "version": 3
   },
   "file_extension": ".py",
   "mimetype": "text/x-python",
   "name": "python",
   "nbconvert_exporter": "python",
   "pygments_lexer": "ipython3",
   "version": "3.8.1"
  }
 },
 "nbformat": 4,
 "nbformat_minor": 4
}
