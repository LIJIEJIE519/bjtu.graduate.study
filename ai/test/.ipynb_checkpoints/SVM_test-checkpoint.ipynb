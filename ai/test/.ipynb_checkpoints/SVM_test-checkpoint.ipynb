{
 "cells": [
  {
   "cell_type": "code",
   "execution_count": 9,
   "metadata": {},
   "outputs": [
    {
     "name": "stdout",
     "output_type": "stream",
     "text": [
      "{1: array([[ 7.12731332, -4.4394424 ],\n",
      "       [ 6.68873898, -2.44840134],\n",
      "       [ 3.99337867, -4.90451269],\n",
      "       [ 4.20397723, -3.61164749],\n",
      "       [ 5.19327641, -6.38845134],\n",
      "       [ 7.54287406, -5.35284052],\n",
      "       [ 4.88954545, -3.38947816],\n",
      "       [ 5.22597752, -5.5503347 ],\n",
      "       [ 6.64886376, -4.46203664],\n",
      "       [ 8.09408178, -4.8068287 ],\n",
      "       [ 6.32916529, -5.32177094],\n",
      "       [ 5.80670214, -5.14475233],\n",
      "       [ 5.67381136, -3.33963413],\n",
      "       [ 7.20870152, -6.04176429],\n",
      "       [ 6.50753753, -3.62561777],\n",
      "       [ 4.60302933, -4.27563422],\n",
      "       [ 3.83024448, -4.07271978],\n",
      "       [ 6.05297048, -6.08234237],\n",
      "       [ 3.86649969, -4.04019832],\n",
      "       [ 6.44492377, -4.43550613],\n",
      "       [ 2.74565323, -4.27040575],\n",
      "       [ 5.23730283, -4.11095128],\n",
      "       [ 6.34072331, -4.34259999],\n",
      "       [ 6.59620916, -4.32893984],\n",
      "       [ 7.24901124, -3.58913263]]), -1: array([[ -1.1004791 ,  -7.78436803],\n",
      "       [ -1.8171622 ,  -9.22909875],\n",
      "       [ -2.05521901, -10.23141199],\n",
      "       [ -0.21804625,  -9.21962706],\n",
      "       [ -1.83682056,  -8.21952131],\n",
      "       [ -1.76558632,  -9.34943001],\n",
      "       [ -3.25014567,  -8.67304842],\n",
      "       [ -1.22856371,  -7.96317275],\n",
      "       [ -3.29446134,  -7.45269997],\n",
      "       [ -1.81294631,  -7.55640734],\n",
      "       [ -1.53809058,  -8.77828137],\n",
      "       [ -3.78288052,  -9.38303174],\n",
      "       [ -2.73473836,  -9.34777956],\n",
      "       [  0.56085542,  -8.37942864],\n",
      "       [ -0.74123127,  -7.87270877],\n",
      "       [ -1.78948268,  -8.62182811],\n",
      "       [ -1.26561532,  -8.61262708],\n",
      "       [ -0.72123914,  -8.45607028],\n",
      "       [ -3.34179681,  -9.47382989],\n",
      "       [ -2.91411681,  -9.03305688],\n",
      "       [ -1.81467949, -10.05599013],\n",
      "       [ -1.76772086,  -9.42358002],\n",
      "       [ -2.30635421,  -8.37456353],\n",
      "       [ -3.09442079,  -9.2409609 ],\n",
      "       [ -2.03285195,  -8.16158771]])}\n",
      "8.09408177937001 -10.231411985451054\n",
      "w:  [0.32376327 0.32376327]\n",
      "b:  1.4974051291840844\n"
     ]
    },
    {
     "data": {
      "image/png": "[encoded data removed]",
      "text/plain": [
       "<Figure size 432x288 with 1 Axes>"
      ]
     },
     "metadata": {
      "needs_background": "light"
     },
     "output_type": "display_data"
    }
   ],
   "source": [
    "# -*- coding: utf-8 -*-\n",
    "\n",
    "import numpy as np\n",
    "import matplotlib.pyplot as plt\n",
    "import math\n",
    "\n",
    "from sklearn.datasets.samples_generator import make_blobs\n",
    "\n",
    "# step 1: generate data\n",
    "(X, y) = make_blobs(n_samples=50,\n",
    "                    n_features=2,\n",
    "                    centers=2,\n",
    "                    cluster_std=1.05,\n",
    "                    random_state=40)\n",
    "# print(X.shape)\n",
    "# print(X) #[[  7.12731332  -4.4394424 ] [  6.68873898  -2.44840134]\n",
    "# print(y) # 1 1 0 1 0 0 1 0 1 0 1 1 0 ...\n",
    "\n",
    "X1 = np.c_[np.ones((X.shape[0])), X]\n",
    "# print(X1)\n",
    "\n",
    "# display data\n",
    "# plt.scatter(X1[:,1], X1[:,2],marker='o', c=y)\n",
    "# plt.axis([-5,10,-12,-1])\n",
    "# plt.show()\n",
    "\n",
    "# step 2: cluster the data\n",
    "# for svm, we set the data cluster value to -1 and 1\n",
    "positive_data = list()\n",
    "negative_data = list()\n",
    "for i, v in enumerate(y):\n",
    "    if v == 0:\n",
    "        negative_data.append(X[i])\n",
    "    else:\n",
    "        positive_data.append(X[i])\n",
    "\n",
    "data_dict = {1: np.array(positive_data), -1: np.array(negative_data)}\n",
    "# print(data_dict)\n",
    "\n",
    "# step 3: svm training\n",
    "\n",
    "w = []  # weights 2 dimesional vector\n",
    "b = []  # bias\n",
    "max_feature_value = float('-inf')\n",
    "min_feature_value = float('+inf')\n",
    "\n",
    "for yi in data_dict:\n",
    "    if np.amax(data_dict[yi]) > max_feature_value:\n",
    "        max_feature_value = np.amax(data_dict[yi])\n",
    "\n",
    "    if np.amin(data_dict[yi]) < min_feature_value:\n",
    "        min_feature_value = np.amin(data_dict[yi])\n",
    "\n",
    "print(max_feature_value, min_feature_value)\n",
    "learning_rates = [max_feature_value * 0.1,\n",
    "                  max_feature_value * 0.01,\n",
    "                  max_feature_value * 0.001]\n",
    "\n",
    "\n",
    "def svm_training(data_dict):\n",
    "    i = 1\n",
    "    global w\n",
    "    global b\n",
    "\n",
    "    length_w_vector = {}\n",
    "    transforms = [[1, 1], [-1, 1], [-1, -1], [1, -1]]\n",
    "    b_step_size = 2\n",
    "    b_multiple = 5\n",
    "    w_optimum = max_feature_value * 0.5\n",
    "\n",
    "    for rate in learning_rates:\n",
    "        w = np.array([w_optimum, w_optimum])\n",
    "        optimized = False\n",
    "\n",
    "        while not optimized:\n",
    "            for b in np.arange(-1 * (max_feature_value * b_step_size), max_feature_value * b_step_size,\n",
    "                               rate * b_multiple):\n",
    "                for transformation in transforms:\n",
    "                    w_t = w * transformation\n",
    "                    correctly_classified = True\n",
    "\n",
    "                    for yi in data_dict:\n",
    "                        for xi in data_dict[yi]:\n",
    "                            if yi * (np.dot(w_t, xi) + b) < 1:\n",
    "                                correctly_classified = False\n",
    "\n",
    "                    if correctly_classified:\n",
    "                        length_w_vector[np.linalg.norm(w_t)] = [w_t, b]\n",
    "            if w[0] < 0:\n",
    "                optimized = True\n",
    "            else:\n",
    "                w = w - rate\n",
    "\n",
    "        norms = sorted([n for n in length_w_vector])\n",
    "\n",
    "        minimum_w_length = length_w_vector[norms[0]]\n",
    "        w = minimum_w_length[0]\n",
    "        b = minimum_w_length[1]\n",
    "\n",
    "        w_optimum = w[0] + rate * 2\n",
    "\n",
    "svm_training(data_dict)\n",
    "\n",
    "print(\"w: \", w)\n",
    "print(\"b: \", b)\n",
    "\n",
    "# step 4: plot the svm result\n",
    "colors = {1:'r',-1:'b'}\n",
    "fig = plt.figure()\n",
    "ax = fig.add_subplot(1,1,1)\n",
    "\n",
    "def visualize(data_dict):\n",
    "    # [[ax.scatter(x[0],x[1],s=100,color=colors[i]) for x in data_dict[i]] for i in data_dict]\n",
    "\n",
    "    plt.scatter(X1[:, 1], X1[:, 2], marker='o', c=y)\n",
    "\n",
    "    # hyperplane = x.w+b\n",
    "    # v = x.w+b\n",
    "    # psv = 1\n",
    "    # nsv = -1\n",
    "    # dec = 0\n",
    "    def hyperplane_value(x, w, b, v):\n",
    "        return (-w[0] * x - b + v) / w[1]\n",
    "\n",
    "    datarange = (min_feature_value * 0.9, max_feature_value * 1.)\n",
    "    hyp_x_min = datarange[0]\n",
    "    hyp_x_max = datarange[1]\n",
    "\n",
    "    # (w.x+b) = 1\n",
    "    # positive support vector hyperplane\n",
    "    psv1 = hyperplane_value(hyp_x_min, w, b, 1)\n",
    "    psv2 = hyperplane_value(hyp_x_max, w, b, 1)\n",
    "    ax.plot([hyp_x_min, hyp_x_max], [psv1, psv2], 'k')\n",
    "\n",
    "    # (w.x+b) = -1\n",
    "    # negative support vector hyperplane\n",
    "    nsv1 = hyperplane_value(hyp_x_min, w, b, -1)\n",
    "    nsv2 = hyperplane_value(hyp_x_max, w, b, -1)\n",
    "    ax.plot([hyp_x_min, hyp_x_max], [nsv1, nsv2], 'k')\n",
    "\n",
    "    # (w.x+b) = 0\n",
    "    # positive support vector hyperplane\n",
    "    db1 = hyperplane_value(hyp_x_min, w, b, 0)\n",
    "    db2 = hyperplane_value(hyp_x_max, w, b, 0)\n",
    "    ax.plot([hyp_x_min, hyp_x_max], [db1, db2], 'y--')\n",
    "\n",
    "    plt.axis([-5, 10, -12, -1])\n",
    "    plt.show()\n",
    "\n",
    "visualize(data_dict)"
   ]
  },
  {
   "cell_type": "code",
   "execution_count": 10,
   "metadata": {},
   "outputs": [],
   "source": [
    "def show_accuracy(a, b):\n",
    "    acc = a.ravel() == b.ravel()\n",
    "    print('正确率：%.2f%%' % (100 * float(acc.sum()) / a.size))"
   ]
  },
  {
   "cell_type": "code",
   "execution_count": 19,
   "metadata": {},
   "outputs": [
    {
     "name": "stdout",
     "output_type": "stream",
     "text": [
      "[1 1 0 1 0 0 1 0 1 0 1 1 0 1 1 1 1 1 1 1 0 0 0 0 0 0 0 0 0 0 1 1 0 0 1 0 1\n",
      " 0 1 1 0 0 1 1 1 0 0 1 1 0]\n"
     ]
    }
   ],
   "source": [
    "print(y)"
   ]
  },
  {
   "cell_type": "code",
   "execution_count": 23,
   "metadata": {},
   "outputs": [],
   "source": [
    "def predict(features):\n",
    "    # sign( x.w+b )\n",
    "    dot_result = np.sign(np.dot(np.array(features),w)+b)\n",
    "    return dot_result.astype(int)\n",
    "\n",
    "y_hat = predict(X)"
   ]
  },
  {
   "cell_type": "code",
   "execution_count": 24,
   "metadata": {},
   "outputs": [
    {
     "name": "stdout",
     "output_type": "stream",
     "text": [
      "[ 1  1 -1  1 -1 -1  1 -1  1 -1  1  1 -1  1  1  1  1  1  1  1 -1 -1 -1 -1\n",
      " -1 -1 -1 -1 -1 -1  1  1 -1 -1  1 -1  1 -1  1  1 -1 -1  1  1  1 -1 -1  1\n",
      "  1 -1]\n"
     ]
    }
   ],
   "source": [
    "print(y_hat)"
   ]
  },
  {
   "cell_type": "code",
   "execution_count": 17,
   "metadata": {},
   "outputs": [
    {
     "name": "stdout",
     "output_type": "stream",
     "text": [
      "正确率：50.00%\n"
     ]
    }
   ],
   "source": [
    "show_accuracy(y, y_hat)"
   ]
  },
  {
   "cell_type": "code",
   "execution_count": 2,
   "metadata": {},
   "outputs": [],
   "source": [
    "from sklearn.datasets import make_blobs\n",
    "from sklearn.svm import SVC\n",
    "import matplotlib.pyplot as plt\n",
    "import numpy as np"
   ]
  },
  {
   "cell_type": "code",
   "execution_count": 18,
   "metadata": {},
   "outputs": [
    {
     "data": {
      "image/png": "[encoded data removed]",
      "text/plain": [
       "<Figure size 432x288 with 1 Axes>"
      ]
     },
     "metadata": {},
     "output_type": "display_data"
    }
   ],
   "source": [
    "# X,y = make_blobs(n_samples=50, centers=2, random_state=0,cluster_std=0.6)\n",
    "(X, y) = make_blobs(n_samples=50,\n",
    "                    n_features=2,\n",
    "                    centers=2,\n",
    "                    cluster_std=1.05,\n",
    "                    random_state=40)\n",
    "plt.scatter(X[:,0],X[:,1],c=y,s=50,cmap=\"rainbow\")#rainbow彩虹色\n",
    "plt.xticks([])\n",
    "plt.yticks([])\n",
    "plt.show()"
   ]
  },
  {
   "cell_type": "code",
   "execution_count": 5,
   "metadata": {},
   "outputs": [
    {
     "data": {
      "text/plain": [
       "SVC(gamma='auto')"
      ]
     },
     "execution_count": 5,
     "metadata": {},
     "output_type": "execute_result"
    }
   ],
   "source": [
    "clf = SVC()\n",
    "clf.fit(X, y) \n",
    "SVC(C=1.0, cache_size=200, class_weight=None, coef0=0.0,\n",
    "    decision_function_shape='ovr', degree=3, gamma='auto', kernel='rbf',\n",
    "    max_iter=-1, probability=False, random_state=None, shrinking=True,\n",
    "    tol=0.001, verbose=False)\n"
   ]
  },
  {
   "cell_type": "code",
   "execution_count": 7,
   "metadata": {},
   "outputs": [
    {
     "data": {
      "text/plain": [
       "1.0"
      ]
     },
     "execution_count": 7,
     "metadata": {},
     "output_type": "execute_result"
    }
   ],
   "source": [
    "clf.score(X,y)"
   ]
  }
 ],
 "metadata": {
  "kernelspec": {
   "display_name": "Python 3",
   "language": "python",
   "name": "python3"
  },
  "language_info": {
   "codemirror_mode": {
    "name": "ipython",
    "version": 3
   },
   "file_extension": ".py",
   "mimetype": "text/x-python",
   "name": "python",
   "nbconvert_exporter": "python",
   "pygments_lexer": "ipython3",
   "version": "3.8.1"
  }
 },
 "nbformat": 4,
 "nbformat_minor": 4
}
