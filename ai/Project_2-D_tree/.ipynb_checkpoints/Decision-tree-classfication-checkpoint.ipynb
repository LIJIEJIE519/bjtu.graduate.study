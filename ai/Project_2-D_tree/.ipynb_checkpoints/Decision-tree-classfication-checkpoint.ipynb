{
 "cells": [
  {
   "cell_type": "markdown",
   "metadata": {},
   "source": [
    "# Project 2, Implmenting Classification"
   ]
  },
  {
   "cell_type": "markdown",
   "metadata": {},
   "source": [
    "# 1, Implmenting the decision tree using numpy and pandas without using sk-learn.\n",
    "# 2, Implementation need include both classification with gini/entropy and regression with rss.\n",
    "# 3, You are required to test with a sample dataset and provide evaluation with confusion matrix.\n",
    "# 4, Compare your implementation with Sk-learn regressor.\n"
   ]
  },
  {
   "cell_type": "markdown",
   "metadata": {},
   "source": [
    "# 使用基尼不纯度来实现分类树\n",
    "\n",
    "## 数据集\n",
    "   \n",
    "    数据集简介：\n",
    "        鸢尾花数据集，来自机器学习包sklearn集成的数据集。\n",
    "    数据集的属性：\n",
    "        萼片长度(厘米)(sepal length (cm))/萼片长度(厘米)(sepal width (cm))/花瓣长度(厘米)(petal length (cm))\n",
    "        花瓣长度(厘米)(petal width (cm))/目标(target)/目标名字(target_names)\n",
    "        上面前4个属性是鸢尾花的特征属性,根据上面的特征属性，可以将划分成相应的目标(0/1/2)，其中目标对应相应的目标名字(0 - setosa),\n",
    "        (1 - versicolor),(2 - virginica)\n",
    "    数据集大小：150 * 6\n",
    "    \n",
    "## 说明\n",
    "\n",
    "    1. 加载数据集,并将数据集划分为训练集与测试集\n",
    "    2. 定义相应的函数\n",
    "        partition：将数据分割到左边和右边\n",
    "        gini_impurity：定义基尼不纯度(gini impurity)\n",
    "        information_gain：定义信息增益(information main)\n",
    "        find_best_split：定义寻找最佳分割的函数\n",
    "    3. 定义决策树\n",
    "        class Leaf：决策树的叶子节点\n",
    "        Decision_Node：决策树的决策结点(非叶子结点)\n",
    "    4. 用训练集来训练决策树\n",
    "        my_tree = build_tree(X_train, y_train, X_train.index)\n",
    "    5. 用测试集来测试决策树\n",
    "    6. 用混淆矩阵来评估决策树\n",
    "    \n",
    "## 结果\n",
    "    \n",
    "    预测的准确度：0.9736842105263158(测试数据有38个，预测错了1个)\n",
    "    混淆矩阵：\n",
    "        [[12  0  0]\n",
    "         [ 0  7  1]\n",
    "         [ 0  0 18]]\n",
    "    "
   ]
  },
  {
   "cell_type": "code",
   "execution_count": 1,
   "metadata": {},
   "outputs": [],
   "source": [
    "import numpy as np \n",
    "import pandas as pd \n",
    "from sklearn.metrics import accuracy_score\n",
    "from sklearn.datasets import load_iris\n",
    "from sklearn.tree import DecisionTreeClassifier\n",
    "from sklearn.tree import export_graphviz\n",
    "from sklearn.model_selection import train_test_split\n",
    "\n",
    "pd.options.mode.chained_assignment = None"
   ]
  },
  {
   "cell_type": "code",
   "execution_count": 2,
   "metadata": {},
   "outputs": [
    {
     "name": "stdout",
     "output_type": "stream",
     "text": [
      "(150, 6)\n"
     ]
    },
    {
     "data": {
      "text/html": [
       "<div>\n",
       "<style scoped>\n",
       "    .dataframe tbody tr th:only-of-type {\n",
       "        vertical-align: middle;\n",
       "    }\n",
       "\n",
       "    .dataframe tbody tr th {\n",
       "        vertical-align: top;\n",
       "    }\n",
       "\n",
       "    .dataframe thead th {\n",
       "        text-align: right;\n",
       "    }\n",
       "</style>\n",
       "<table border=\"1\" class=\"dataframe\">\n",
       "  <thead>\n",
       "    <tr style=\"text-align: right;\">\n",
       "      <th></th>\n",
       "      <th>sepal length (cm)</th>\n",
       "      <th>sepal width (cm)</th>\n",
       "      <th>petal length (cm)</th>\n",
       "      <th>petal width (cm)</th>\n",
       "      <th>target</th>\n",
       "      <th>target_names</th>\n",
       "    </tr>\n",
       "  </thead>\n",
       "  <tbody>\n",
       "    <tr>\n",
       "      <th>0</th>\n",
       "      <td>5.1</td>\n",
       "      <td>3.5</td>\n",
       "      <td>1.4</td>\n",
       "      <td>0.2</td>\n",
       "      <td>0</td>\n",
       "      <td>setosa</td>\n",
       "    </tr>\n",
       "    <tr>\n",
       "      <th>1</th>\n",
       "      <td>4.9</td>\n",
       "      <td>3.0</td>\n",
       "      <td>1.4</td>\n",
       "      <td>0.2</td>\n",
       "      <td>0</td>\n",
       "      <td>setosa</td>\n",
       "    </tr>\n",
       "    <tr>\n",
       "      <th>2</th>\n",
       "      <td>4.7</td>\n",
       "      <td>3.2</td>\n",
       "      <td>1.3</td>\n",
       "      <td>0.2</td>\n",
       "      <td>0</td>\n",
       "      <td>setosa</td>\n",
       "    </tr>\n",
       "    <tr>\n",
       "      <th>3</th>\n",
       "      <td>4.6</td>\n",
       "      <td>3.1</td>\n",
       "      <td>1.5</td>\n",
       "      <td>0.2</td>\n",
       "      <td>0</td>\n",
       "      <td>setosa</td>\n",
       "    </tr>\n",
       "    <tr>\n",
       "      <th>4</th>\n",
       "      <td>5.0</td>\n",
       "      <td>3.6</td>\n",
       "      <td>1.4</td>\n",
       "      <td>0.2</td>\n",
       "      <td>0</td>\n",
       "      <td>setosa</td>\n",
       "    </tr>\n",
       "  </tbody>\n",
       "</table>\n",
       "</div>"
      ],
      "text/plain": [
       "   sepal length (cm)  sepal width (cm)  petal length (cm)  petal width (cm)  \\\n",
       "0                5.1               3.5                1.4               0.2   \n",
       "1                4.9               3.0                1.4               0.2   \n",
       "2                4.7               3.2                1.3               0.2   \n",
       "3                4.6               3.1                1.5               0.2   \n",
       "4                5.0               3.6                1.4               0.2   \n",
       "\n",
       "   target target_names  \n",
       "0       0       setosa  \n",
       "1       0       setosa  \n",
       "2       0       setosa  \n",
       "3       0       setosa  \n",
       "4       0       setosa  "
      ]
     },
     "execution_count": 2,
     "metadata": {},
     "output_type": "execute_result"
    }
   ],
   "source": [
    "# 加载数据集\n",
    "dataset = load_iris(as_frame=True)\n",
    "df= pd.DataFrame(data= dataset.data)\n",
    "target_zip= dict(zip(set(dataset.target), dataset.target_names))\n",
    "df[\"target\"] = dataset.target\n",
    "df[\"target_names\"] = df[\"target\"].map(target_zip)\n",
    "\n",
    "print(df.shape)\n",
    "df.head()"
   ]
  },
  {
   "cell_type": "code",
   "execution_count": 3,
   "metadata": {},
   "outputs": [],
   "source": [
    "# 划分数据集和训练集\n",
    "X = df.iloc[:, :4]\n",
    "y = df.iloc[:, -1]\n",
    "\n",
    "X_train, X_test, y_train, y_test = train_test_split(X, y, train_size=0.75, shuffle=True, random_state=24)"
   ]
  },
  {
   "cell_type": "markdown",
   "metadata": {},
   "source": [
    "## Without using sk-learn."
   ]
  },
  {
   "cell_type": "code",
   "execution_count": 4,
   "metadata": {},
   "outputs": [],
   "source": [
    "# 将数据分割到左边和右边\n",
    "def partition(data, column, value): \n",
    "    left = data[data[column] <= value].index\n",
    "    right = data[data[column] > value].index\n",
    "\n",
    "    return left, right"
   ]
  },
  {
   "cell_type": "code",
   "execution_count": 5,
   "metadata": {},
   "outputs": [],
   "source": [
    "# 定义基尼不纯度(gini impurity)\n",
    "def gini_impurity(label, label_idx):\n",
    "    unique_label, unique_label_count = np.unique(label.loc[label_idx], return_counts=True)\n",
    "\n",
    "    impurity = 1.0\n",
    "    for i in range(len(unique_label)):\n",
    "        p_i = unique_label_count[i] / sum(unique_label_count)\n",
    "        impurity -= p_i ** 2 \n",
    "    return impurity"
   ]
  },
  {
   "cell_type": "code",
   "execution_count": 6,
   "metadata": {},
   "outputs": [],
   "source": [
    "# 定义信息增益\n",
    "def information_gain(label, left_idx, right_idx, impurity): \n",
    "    p = float(len(left_idx)) / (len(left_idx) + len(right_idx))\n",
    "    info_gain = impurity - p * gini_impurity(label, left_idx) - (1 - p) * gini_impurity(label, right_idx)\n",
    "    return info_gain"
   ]
  },
  {
   "cell_type": "code",
   "execution_count": 7,
   "metadata": {},
   "outputs": [],
   "source": [
    "# 定义寻找最佳分割的函数\n",
    "def find_best_split(df, label, idx):\n",
    "    best_gain = 0 \n",
    "    best_col = None\n",
    "    best_value = None\n",
    "    \n",
    "    df = df.loc[idx] \n",
    "    label_idx = label.loc[idx].index \n",
    "\n",
    "    impurity = gini_impurity(label, label_idx) \n",
    "    \n",
    "    for col in df.columns: \n",
    "        unique_values = set(df[col])\n",
    "        for value in unique_values: \n",
    "\n",
    "            left_idx, right_idx = partition(df, col, value)\n",
    "            if len(left_idx) == 0 or len(right_idx) == 0: \n",
    "                continue \n",
    "            info_gain = information_gain(label, left_idx, right_idx, impurity)\n",
    "            if info_gain > best_gain:\n",
    "                best_gain, best_col, best_value = info_gain, col, value\n",
    "                \n",
    "    return best_gain, best_col, best_value"
   ]
  },
  {
   "cell_type": "code",
   "execution_count": 8,
   "metadata": {},
   "outputs": [],
   "source": [
    "# 计算唯一值的函数\n",
    "def count(label, idx):\n",
    "    unique_label, unique_label_counts = np.unique(label.loc[idx], return_counts=True)\n",
    "    dict_label_count = dict(zip(unique_label, unique_label_counts))\n",
    "    return dict_label_count"
   ]
  },
  {
   "cell_type": "code",
   "execution_count": 9,
   "metadata": {},
   "outputs": [],
   "source": [
    "# 决策树的叶节点\n",
    "class Leaf:\n",
    "    def __init__(self, label, idx):\n",
    "        self.predictions = count(label, idx)"
   ]
  },
  {
   "cell_type": "code",
   "execution_count": 10,
   "metadata": {},
   "outputs": [],
   "source": [
    "# 决策树的决策结点（非叶子结点）\n",
    "class Decision_Node:\n",
    "    def __init__(self, column, value, true_branch, false_branch):\n",
    "        self.column = column\n",
    "        self.value = value\n",
    "        self.true_branch = true_branch\n",
    "        self.false_branch = false_branch"
   ]
  },
  {
   "cell_type": "code",
   "execution_count": 11,
   "metadata": {},
   "outputs": [],
   "source": [
    "def build_tree(df, label, idx): \n",
    "    best_gain, best_col, best_value = find_best_split(df, label, idx)\n",
    "    if best_gain == 0: \n",
    "        return Leaf(label, label.loc[idx].index)\n",
    "    left_idx, right_idx = partition(df.loc[idx], best_col, best_value)\n",
    "    true_branch = build_tree(df, label, left_idx)\n",
    "    false_branch = build_tree(df, label, right_idx)\n",
    "    return Decision_Node(best_col, best_value, true_branch, false_branch)"
   ]
  },
  {
   "cell_type": "code",
   "execution_count": 12,
   "metadata": {},
   "outputs": [],
   "source": [
    "# 打印决策树的函数\n",
    "def print_tree(node, spacing=\"\"):\n",
    "    if isinstance(node, Leaf):\n",
    "        print (spacing + \"Predict\", node.predictions)\n",
    "        return\n",
    "    print(spacing + f\"[{node.column} <= {node.value}]\")\n",
    "    print (spacing + '--> True:')\n",
    "    print_tree(node.true_branch, spacing + \"  \")\n",
    "    print (spacing + '--> False:')\n",
    "    print_tree(node.false_branch, spacing + \"  \")"
   ]
  },
  {
   "cell_type": "code",
   "execution_count": 13,
   "metadata": {},
   "outputs": [],
   "source": [
    "my_tree = build_tree(X_train, y_train, X_train.index)"
   ]
  },
  {
   "cell_type": "code",
   "execution_count": 14,
   "metadata": {},
   "outputs": [
    {
     "name": "stdout",
     "output_type": "stream",
     "text": [
      "[petal length (cm) <= 1.9]\n",
      "--> True:\n",
      "  Predict {'setosa': 38}\n",
      "--> False:\n",
      "  [petal width (cm) <= 1.6]\n",
      "  --> True:\n",
      "    [petal length (cm) <= 4.9]\n",
      "    --> True:\n",
      "      Predict {'versicolor': 40}\n",
      "    --> False:\n",
      "      [sepal length (cm) <= 6.0]\n",
      "      --> True:\n",
      "        [sepal width (cm) <= 2.2]\n",
      "        --> True:\n",
      "          Predict {'virginica': 1}\n",
      "        --> False:\n",
      "          Predict {'versicolor': 1}\n",
      "      --> False:\n",
      "        Predict {'virginica': 2}\n",
      "  --> False:\n",
      "    [petal length (cm) <= 4.8]\n",
      "    --> True:\n",
      "      [sepal width (cm) <= 3.0]\n",
      "      --> True:\n",
      "        Predict {'virginica': 3}\n",
      "      --> False:\n",
      "        Predict {'versicolor': 1}\n",
      "    --> False:\n",
      "      Predict {'virginica': 26}\n"
     ]
    }
   ],
   "source": [
    "print_tree(my_tree)"
   ]
  },
  {
   "cell_type": "code",
   "execution_count": 15,
   "metadata": {},
   "outputs": [],
   "source": [
    "def predict(test_data, tree):\n",
    "    if isinstance(tree, Leaf): \n",
    "        return max(tree.predictions)\n",
    "    feature_name, feature_value = tree.column, tree.value\n",
    "    if test_data[feature_name] <= feature_value: \n",
    "        return predict(test_data, tree.true_branch)\n",
    "    else: \n",
    "        return predict(test_data, tree.false_branch)"
   ]
  },
  {
   "cell_type": "code",
   "execution_count": 16,
   "metadata": {
    "scrolled": true
   },
   "outputs": [],
   "source": [
    "# 创造新的预测列\n",
    "X_test[\"predictions\"] = X_test.apply(predict, axis=1, args=(my_tree,))"
   ]
  },
  {
   "cell_type": "code",
   "execution_count": 17,
   "metadata": {},
   "outputs": [
    {
     "name": "stdout",
     "output_type": "stream",
     "text": [
      "My Implementation:\n",
      "ACCURACY: 0.9736842105263158\n"
     ]
    }
   ],
   "source": [
    "# 计算并打印预测的准确度\n",
    "print(f\"My Implementation:\\nACCURACY: {accuracy_score(y_test, X_test['predictions'])}\")"
   ]
  },
  {
   "cell_type": "code",
   "execution_count": 18,
   "metadata": {},
   "outputs": [],
   "source": [
    "# 用混淆矩阵来评估模型"
   ]
  },
  {
   "cell_type": "code",
   "execution_count": 19,
   "metadata": {},
   "outputs": [],
   "source": [
    "from sklearn.metrics import confusion_matrix"
   ]
  },
  {
   "cell_type": "code",
   "execution_count": 20,
   "metadata": {},
   "outputs": [
    {
     "name": "stdout",
     "output_type": "stream",
     "text": [
      "Confusion matrix\n",
      "\n",
      " [[12  0  0]\n",
      " [ 0  7  1]\n",
      " [ 0  0 18]]\n"
     ]
    }
   ],
   "source": [
    "cm = confusion_matrix(y_test, X_test['predictions'])\n",
    "print('Confusion matrix\\n\\n', cm)"
   ]
  },
  {
   "cell_type": "code",
   "execution_count": 21,
   "metadata": {},
   "outputs": [
    {
     "name": "stdout",
     "output_type": "stream",
     "text": [
      "0.9736842105263158\n"
     ]
    }
   ],
   "source": [
    "# 通过混淆矩阵来获取准确度\n",
    "accuracy = (cm[0][0] + cm[1][1] + cm[2][2]) / y_test.shape[0]\n",
    "print(accuracy)"
   ]
  }
 ],
 "metadata": {
  "kernelspec": {
   "display_name": "Python 3",
   "language": "python",
   "name": "python3"
  },
  "language_info": {
   "codemirror_mode": {
    "name": "ipython",
    "version": 3
   },
   "file_extension": ".py",
   "mimetype": "text/x-python",
   "name": "python",
   "nbconvert_exporter": "python",
   "pygments_lexer": "ipython3",
   "version": "3.8.1"
  }
 },
 "nbformat": 4,
 "nbformat_minor": 4
}
