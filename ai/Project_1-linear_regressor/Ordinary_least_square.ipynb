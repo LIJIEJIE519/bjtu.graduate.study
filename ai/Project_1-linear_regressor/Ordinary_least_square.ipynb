{
 "cells": [
  {
   "cell_type": "markdown",
   "metadata": {},
   "source": [
    "# Project 1, Implmenting Multivariate Linear Regression with Gradient descent"
   ]
  },
  {
   "cell_type": "markdown",
   "metadata": {},
   "source": [
    "# 1, Implmenting the multivariate regression using numpy and pandas without using sk-learn regressor.\n",
    "# 2, Implementation with ordinary least square with matrix inversion.\n",
    "# 3, You are required to train your own model and provide evaluation with RMSE and R².\n",
    "# 4, Compare your implementation with Sk-learn regressor."
   ]
  },
  {
   "cell_type": "code",
   "execution_count": 1,
   "metadata": {},
   "outputs": [
    {
     "data": {
      "text/html": [
       "<div>\n",
       "<style scoped>\n",
       "    .dataframe tbody tr th:only-of-type {\n",
       "        vertical-align: middle;\n",
       "    }\n",
       "\n",
       "    .dataframe tbody tr th {\n",
       "        vertical-align: top;\n",
       "    }\n",
       "\n",
       "    .dataframe thead th {\n",
       "        text-align: right;\n",
       "    }\n",
       "</style>\n",
       "<table border=\"1\" class=\"dataframe\">\n",
       "  <thead>\n",
       "    <tr style=\"text-align: right;\">\n",
       "      <th></th>\n",
       "      <th>symboling</th>\n",
       "      <th>normalized-losses</th>\n",
       "      <th>make</th>\n",
       "      <th>aspiration</th>\n",
       "      <th>num-of-doors</th>\n",
       "      <th>body-style</th>\n",
       "      <th>drive-wheels</th>\n",
       "      <th>engine-location</th>\n",
       "      <th>wheel-base</th>\n",
       "      <th>length</th>\n",
       "      <th>...</th>\n",
       "      <th>compression-ratio</th>\n",
       "      <th>horsepower</th>\n",
       "      <th>peak-rpm</th>\n",
       "      <th>city-mpg</th>\n",
       "      <th>highway-mpg</th>\n",
       "      <th>price</th>\n",
       "      <th>city-L/100km</th>\n",
       "      <th>horsepower-binned</th>\n",
       "      <th>diesel</th>\n",
       "      <th>gas</th>\n",
       "    </tr>\n",
       "  </thead>\n",
       "  <tbody>\n",
       "    <tr>\n",
       "      <th>0</th>\n",
       "      <td>3</td>\n",
       "      <td>122</td>\n",
       "      <td>alfa-romero</td>\n",
       "      <td>std</td>\n",
       "      <td>two</td>\n",
       "      <td>convertible</td>\n",
       "      <td>rwd</td>\n",
       "      <td>front</td>\n",
       "      <td>88.6</td>\n",
       "      <td>0.811148</td>\n",
       "      <td>...</td>\n",
       "      <td>9.0</td>\n",
       "      <td>111.0</td>\n",
       "      <td>5000.0</td>\n",
       "      <td>21</td>\n",
       "      <td>27</td>\n",
       "      <td>13495.0</td>\n",
       "      <td>11.190476</td>\n",
       "      <td>Medium</td>\n",
       "      <td>0</td>\n",
       "      <td>1</td>\n",
       "    </tr>\n",
       "    <tr>\n",
       "      <th>1</th>\n",
       "      <td>3</td>\n",
       "      <td>122</td>\n",
       "      <td>alfa-romero</td>\n",
       "      <td>std</td>\n",
       "      <td>two</td>\n",
       "      <td>convertible</td>\n",
       "      <td>rwd</td>\n",
       "      <td>front</td>\n",
       "      <td>88.6</td>\n",
       "      <td>0.811148</td>\n",
       "      <td>...</td>\n",
       "      <td>9.0</td>\n",
       "      <td>111.0</td>\n",
       "      <td>5000.0</td>\n",
       "      <td>21</td>\n",
       "      <td>27</td>\n",
       "      <td>16500.0</td>\n",
       "      <td>11.190476</td>\n",
       "      <td>Medium</td>\n",
       "      <td>0</td>\n",
       "      <td>1</td>\n",
       "    </tr>\n",
       "    <tr>\n",
       "      <th>2</th>\n",
       "      <td>1</td>\n",
       "      <td>122</td>\n",
       "      <td>alfa-romero</td>\n",
       "      <td>std</td>\n",
       "      <td>two</td>\n",
       "      <td>hatchback</td>\n",
       "      <td>rwd</td>\n",
       "      <td>front</td>\n",
       "      <td>94.5</td>\n",
       "      <td>0.822681</td>\n",
       "      <td>...</td>\n",
       "      <td>9.0</td>\n",
       "      <td>154.0</td>\n",
       "      <td>5000.0</td>\n",
       "      <td>19</td>\n",
       "      <td>26</td>\n",
       "      <td>16500.0</td>\n",
       "      <td>12.368421</td>\n",
       "      <td>Medium</td>\n",
       "      <td>0</td>\n",
       "      <td>1</td>\n",
       "    </tr>\n",
       "    <tr>\n",
       "      <th>3</th>\n",
       "      <td>2</td>\n",
       "      <td>164</td>\n",
       "      <td>audi</td>\n",
       "      <td>std</td>\n",
       "      <td>four</td>\n",
       "      <td>sedan</td>\n",
       "      <td>fwd</td>\n",
       "      <td>front</td>\n",
       "      <td>99.8</td>\n",
       "      <td>0.848630</td>\n",
       "      <td>...</td>\n",
       "      <td>10.0</td>\n",
       "      <td>102.0</td>\n",
       "      <td>5500.0</td>\n",
       "      <td>24</td>\n",
       "      <td>30</td>\n",
       "      <td>13950.0</td>\n",
       "      <td>9.791667</td>\n",
       "      <td>Medium</td>\n",
       "      <td>0</td>\n",
       "      <td>1</td>\n",
       "    </tr>\n",
       "    <tr>\n",
       "      <th>4</th>\n",
       "      <td>2</td>\n",
       "      <td>164</td>\n",
       "      <td>audi</td>\n",
       "      <td>std</td>\n",
       "      <td>four</td>\n",
       "      <td>sedan</td>\n",
       "      <td>4wd</td>\n",
       "      <td>front</td>\n",
       "      <td>99.4</td>\n",
       "      <td>0.848630</td>\n",
       "      <td>...</td>\n",
       "      <td>8.0</td>\n",
       "      <td>115.0</td>\n",
       "      <td>5500.0</td>\n",
       "      <td>18</td>\n",
       "      <td>22</td>\n",
       "      <td>17450.0</td>\n",
       "      <td>13.055556</td>\n",
       "      <td>Medium</td>\n",
       "      <td>0</td>\n",
       "      <td>1</td>\n",
       "    </tr>\n",
       "  </tbody>\n",
       "</table>\n",
       "<p>5 rows × 29 columns</p>\n",
       "</div>"
      ],
      "text/plain": [
       "   symboling  normalized-losses         make aspiration num-of-doors  \\\n",
       "0          3                122  alfa-romero        std          two   \n",
       "1          3                122  alfa-romero        std          two   \n",
       "2          1                122  alfa-romero        std          two   \n",
       "3          2                164         audi        std         four   \n",
       "4          2                164         audi        std         four   \n",
       "\n",
       "    body-style drive-wheels engine-location  wheel-base    length  ...  \\\n",
       "0  convertible          rwd           front        88.6  0.811148  ...   \n",
       "1  convertible          rwd           front        88.6  0.811148  ...   \n",
       "2    hatchback          rwd           front        94.5  0.822681  ...   \n",
       "3        sedan          fwd           front        99.8  0.848630  ...   \n",
       "4        sedan          4wd           front        99.4  0.848630  ...   \n",
       "\n",
       "   compression-ratio  horsepower  peak-rpm city-mpg highway-mpg    price  \\\n",
       "0                9.0       111.0    5000.0       21          27  13495.0   \n",
       "1                9.0       111.0    5000.0       21          27  16500.0   \n",
       "2                9.0       154.0    5000.0       19          26  16500.0   \n",
       "3               10.0       102.0    5500.0       24          30  13950.0   \n",
       "4                8.0       115.0    5500.0       18          22  17450.0   \n",
       "\n",
       "  city-L/100km  horsepower-binned  diesel  gas  \n",
       "0    11.190476             Medium       0    1  \n",
       "1    11.190476             Medium       0    1  \n",
       "2    12.368421             Medium       0    1  \n",
       "3     9.791667             Medium       0    1  \n",
       "4    13.055556             Medium       0    1  \n",
       "\n",
       "[5 rows x 29 columns]"
      ]
     },
     "execution_count": 1,
     "metadata": {},
     "output_type": "execute_result"
    }
   ],
   "source": [
    "#导入数据集\n",
    "\n",
    "import pandas as pd\n",
    "import numpy as np\n",
    "import matplotlib.pyplot as plt\n",
    "import seaborn as sns\n",
    "path = 'http://s3-api.us-geo.objectstorage.softlayer.net/cf-courses-data/CognitiveClass/DA0101EN/automobileEDA.csv'\n",
    "df = pd.read_csv(path)\n",
    "df.head()"
   ]
  },
  {
   "cell_type": "markdown",
   "metadata": {},
   "source": [
    "## 2. Implementation with ordinary least square."
   ]
  },
  {
   "cell_type": "code",
   "execution_count": 2,
   "metadata": {},
   "outputs": [
    {
     "name": "stdout",
     "output_type": "stream",
     "text": [
      "(201,)\n",
      "[15370.73946581 15370.73946581 17747.94410119 11582.16240222\n",
      " 18581.89857888 17105.84325397 17079.86327942 17071.56039596\n",
      " 18701.89204302 11990.08080572 11990.08080572 18512.74189095\n",
      " 18508.52419226 20043.15251839 25670.70362804 25659.90936545\n",
      " 26704.17715025 -3920.23045941  3515.25425246  3512.42686617\n",
      "  4486.82431908  5930.74494702 10340.44959533  5923.40082662\n",
      "  5921.62875467  5921.62875467 10335.4149876  13247.12578504\n",
      " 19361.27249599  -936.01725072  6049.84655242  2867.73691529\n",
      "  8015.15507747  8013.8649185   8009.51612289  8008.3901188\n",
      " 10410.30204146 10406.09007116 10404.90038733 10399.52104846\n",
      " 12727.77303709 11218.17955362 12665.82232394 13374.55759875\n",
      " 32354.55213206 32354.55213206 38866.54811397  9533.39885532\n",
      "  6043.58650221  6043.1827248   6039.9548429   6039.55166098\n",
      " 10747.43577796 10747.43577796 10747.04137559 11411.16126655\n",
      " 12298.63249306 12296.66247063 12298.63249306 12296.66247063\n",
      "  7682.49047749 12295.48207294 16363.79904143 10339.43793649\n",
      " 22073.69157407 22057.55003014 22075.09171898 22056.2033251\n",
      " 30733.55301517 30737.28454599 38698.25300057 38335.98867752\n",
      " 17156.14808169  4712.96862788  6154.7915423   6149.95795711\n",
      " 10339.08949154 11495.82740906 12245.88381632 19359.59892189\n",
      " 19352.94150388 19352.5650533  12242.95837966 12239.80370112\n",
      " 11493.22505648 11493.22505648  7206.91319436  2046.69043511\n",
      "  7204.57136418  7202.95757663  7196.03129835  7201.90919602\n",
      "  7195.7096985   7200.29723163  7194.98628977  7197.31821092\n",
      " 10883.9489542  10885.69206899 23055.80648746 23041.13920153\n",
      " 21487.36411676 21378.18812003 21894.01216198 21373.17107823\n",
      " 15960.40384828 14958.07758243 15944.94808772 19047.33582421\n",
      " 15984.81159483 14954.07833587 15969.45835219 19043.45921931\n",
      " 15956.31881237 14954.07833587 16908.4759637   4483.43203025\n",
      " 10340.44959533  5923.40082662  5921.62875467  6822.94770206\n",
      " 13247.12578504 19360.73960336 17270.88979372 22202.57584605\n",
      " 22202.57584605 22199.21444939 13635.74998035 13645.04474896\n",
      " 13838.39159875 13835.53859953 13834.61530893 13830.7025477\n",
      " 14171.07397576 14168.10879783  7686.11046053 11389.82730567\n",
      " 11380.24789217  8258.2952861  10242.87218123 10564.04163283\n",
      " 14333.40514001 11839.41343157 10739.60473347 11062.43241075\n",
      " 12259.35764803 14945.85027678  5752.82551015  6233.48340042\n",
      "  6235.49327402  6702.99823303  9195.06587179  9132.0801984\n",
      "  7291.65571877  7289.41117794  9342.56652738  4140.05786534\n",
      "  2580.2732139   8774.76560772  8773.32511514  8771.00699568\n",
      "  8768.21383491 10700.48406137 10697.70581488 15560.3685438\n",
      " 15560.68053902 15559.51106019 15549.58949282 15546.89548542\n",
      " 15527.08834082 11182.42351555 10577.5437614  12181.94219855\n",
      " 12181.94219855 12178.48418705 20795.2951431  20792.30699706\n",
      " 20851.32021557 19742.54766159  3163.80254809  9810.81500801\n",
      "  3163.56413273  9810.57589838  9805.56379598  4780.7413401\n",
      " 10595.9940951  12272.20359312 12274.82988793 17616.16907096\n",
      "  6677.76816627 11253.89556479 16025.33962334 16016.20308128\n",
      " 16023.60795279 16015.60824885 17239.02414224 17230.7570376\n",
      " 16022.33073185 16936.38680813 21905.89510964 17082.37513211\n",
      " 17570.61240188]\n",
      "3062294585.5301666\n",
      "[-80386.83951649 -12348.95836283   -838.14414126 122044.735765  ]\n"
     ]
    }
   ],
   "source": [
    "X = df[['highway-mpg','horsepower','curb-weight', 'engine-size']]\n",
    "Y = df['price']\n",
    "#归一化函数\n",
    "def Normalization(X):\n",
    "    X = (X - np.min(X))/(np.max(X) - np.min(X))\n",
    "    return X\n",
    "\n",
    "#激活函数\n",
    "def Sigmoid(X):\n",
    "    smd = 1 / (1 + np.exp(-X))\n",
    "    return smd\n",
    "\n",
    "#权重函数\n",
    "def StandRegress(smd,Y):\n",
    "    w = np.dot(np.dot(np.linalg.inv(np.dot(smd.T, smd)), smd.T), Y) \n",
    "    return w\n",
    "\n",
    "#预测值函数\n",
    "def PredictionValue(smd,w):\n",
    "    Y_hat = np.dot(smd,w)\n",
    "    return Y_hat \n",
    "\n",
    "#损失函数\n",
    "def Loss(Y,Y_hat):\n",
    "    coss = np.dot(Y.T,Y) - 2 * np.dot(Y_hat.T,Y) + np.dot(Y_hat.T,Y_hat)\n",
    "    return coss\n",
    "\n",
    "X = Normalization(X)\n",
    "smd = Sigmoid(X)\n",
    "w = StandRegress(smd,Y)\n",
    "Y_hat = PredictionValue(smd,w)\n",
    "coss = Loss(Y,Y_hat)\n",
    "print(Y_hat.shape)\n",
    "print(Y_hat)\n",
    "print(coss)\n",
    "print(w)"
   ]
  },
  {
   "cell_type": "markdown",
   "metadata": {},
   "source": [
    "## Visualization"
   ]
  },
  {
   "cell_type": "code",
   "execution_count": 3,
   "metadata": {},
   "outputs": [
    {
     "name": "stderr",
     "output_type": "stream",
     "text": [
      "/Library/Frameworks/Python.framework/Versions/3.8/lib/python3.8/site-packages/seaborn/distributions.py:2551: FutureWarning: `distplot` is a deprecated function and will be removed in a future version. Please adapt your code to use either `displot` (a figure-level function with similar flexibility) or `kdeplot` (an axes-level function for kernel density plots).\n",
      "  warnings.warn(msg, FutureWarning)\n",
      "/Library/Frameworks/Python.framework/Versions/3.8/lib/python3.8/site-packages/seaborn/distributions.py:2551: FutureWarning: `distplot` is a deprecated function and will be removed in a future version. Please adapt your code to use either `displot` (a figure-level function with similar flexibility) or `kdeplot` (an axes-level function for kernel density plots).\n",
      "  warnings.warn(msg, FutureWarning)\n"
     ]
    },
    {
     "data": {
      "image/png": "[encoded data removed]",
      "text/plain": [
       "<Figure size 864x720 with 1 Axes>"
      ]
     },
     "metadata": {
      "needs_background": "light"
     },
     "output_type": "display_data"
    }
   ],
   "source": [
    "width = 12\n",
    "height = 10\n",
    "plt.figure(figsize=(width,height))\n",
    "ax1=sns.distplot(df['price'],hist=False,color=\"r\",label=\"Actual Values\")\n",
    "sns.distplot(Y_hat,hist=False,color=\"b\",label=\"Fitted Values\",ax=ax1)\n",
    "\n",
    "plt.title(\"Actual vs Fitted Values for Price\")\n",
    "plt.xlabel(\"Price (in dollars)\")\n",
    "plt.ylabel(\"Proportion of Cars\")\n",
    "\n",
    "plt.show()\n",
    "plt.close()\n"
   ]
  },
  {
   "cell_type": "markdown",
   "metadata": {},
   "source": [
    "## 3, You are required to train your own model and provide evaluation with RMSE and R²."
   ]
  },
  {
   "cell_type": "code",
   "execution_count": 4,
   "metadata": {},
   "outputs": [
    {
     "name": "stdout",
     "output_type": "stream",
     "text": [
      "RMSE = 3903.241786697785\n",
      "R^2 = 0.7575605479382725\n"
     ]
    }
   ],
   "source": [
    "#评价函数\n",
    "\n",
    "def RMSE(Y,coss):\n",
    "    m = Y.shape[0]\n",
    "    return np.sqrt(coss / m)\n",
    "print(\"RMSE = \" + str(RMSE(Y, coss)))\n",
    "\n",
    "def R2(Y):\n",
    "    Y_mean = np.mean(Y)\n",
    "    return 1 -(coss / np.sum(np.multiply(Y-Y_mean, Y-Y_mean))) \n",
    "print(\"R^2 = \" + str(R2(Y)))"
   ]
  },
  {
   "cell_type": "markdown",
   "metadata": {},
   "source": [
    "## 4, Compare your implementation with Sk-learn regressor."
   ]
  },
  {
   "cell_type": "code",
   "execution_count": 5,
   "metadata": {},
   "outputs": [],
   "source": [
    "from sklearn.linear_model import LinearRegression\n",
    "lm = LinearRegression()"
   ]
  },
  {
   "cell_type": "code",
   "execution_count": 6,
   "metadata": {},
   "outputs": [
    {
     "name": "stdout",
     "output_type": "stream",
     "text": [
      "-15806.62462632922\n",
      "[53.49574423  4.70770099 81.53026382 36.05748882]\n"
     ]
    }
   ],
   "source": [
    "#Fit the linear model\n",
    "x_test = np.array(df[['horsepower', 'curb-weight', 'engine-size', 'highway-mpg']])\n",
    "Y = df['price']\n",
    "lm.fit(x_test, Y)\n",
    "Y_hat = lm.predict(x_test)\n",
    "\n",
    "print(lm.intercept_)\n",
    "print(lm.coef_)"
   ]
  },
  {
   "cell_type": "code",
   "execution_count": 7,
   "metadata": {},
   "outputs": [
    {
     "name": "stderr",
     "output_type": "stream",
     "text": [
      "/Library/Frameworks/Python.framework/Versions/3.8/lib/python3.8/site-packages/seaborn/distributions.py:2551: FutureWarning: `distplot` is a deprecated function and will be removed in a future version. Please adapt your code to use either `displot` (a figure-level function with similar flexibility) or `kdeplot` (an axes-level function for kernel density plots).\n",
      "  warnings.warn(msg, FutureWarning)\n",
      "/Library/Frameworks/Python.framework/Versions/3.8/lib/python3.8/site-packages/seaborn/distributions.py:2551: FutureWarning: `distplot` is a deprecated function and will be removed in a future version. Please adapt your code to use either `displot` (a figure-level function with similar flexibility) or `kdeplot` (an axes-level function for kernel density plots).\n",
      "  warnings.warn(msg, FutureWarning)\n"
     ]
    },
    {
     "data": {
      "image/png": "[encoded data removed]",
      "text/plain": [
       "<Figure size 864x720 with 1 Axes>"
      ]
     },
     "metadata": {
      "needs_background": "light"
     },
     "output_type": "display_data"
    }
   ],
   "source": [
    "# 可视化实现\n",
    "import seaborn as sns\n",
    "%matplotlib inline\n",
    "\n",
    "width = 12\n",
    "height = 10\n",
    "\n",
    "plt.figure(figsize=(width,height))\n",
    "ax1=sns.distplot(df['price'], hist=False,color=\"r\",label=\"Actual Values\")\n",
    "sns.distplot(Y_hat, hist=False,color=\"b\",label=\"Fitted Values\",ax=ax1)\n",
    "\n",
    "plt.show()\n",
    "plt.close()"
   ]
  }
 ],
 "metadata": {
  "kernelspec": {
   "display_name": "Python 3",
   "language": "python",
   "name": "python3"
  },
  "language_info": {
   "codemirror_mode": {
    "name": "ipython",
    "version": 3
   },
   "file_extension": ".py",
   "mimetype": "text/x-python",
   "name": "python",
   "nbconvert_exporter": "python",
   "pygments_lexer": "ipython3",
   "version": "3.8.1"
  }
 },
 "nbformat": 4,
 "nbformat_minor": 4
}
